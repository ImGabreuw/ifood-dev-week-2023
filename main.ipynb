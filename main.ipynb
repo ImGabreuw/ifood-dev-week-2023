{
 "cells": [
  {
   "cell_type": "markdown",
   "source": [
    "# Paradigma imperativa"
   ],
   "metadata": {
    "collapsed": false
   }
  },
  {
   "cell_type": "code",
   "execution_count": 30,
   "metadata": {
    "collapsed": true,
    "ExecuteTime": {
     "end_time": "2023-06-29T01:03:41.428272599Z",
     "start_time": "2023-06-29T01:03:41.380831633Z"
    }
   },
   "outputs": [
    {
     "data": {
      "text/plain": "46.93877551020408"
     },
     "execution_count": 30,
     "metadata": {},
     "output_type": "execute_result"
    }
   ],
   "source": [
    "import pandas as pd\n",
    "\n",
    "dados = pd.read_csv(\"./data/feedbacks.csv\", delimiter=\";\")\n",
    "\n",
    "detratores = 0\n",
    "promotores = 0\n",
    "\n",
    "notas = dados[\"Nota\"]\n",
    "\n",
    "for nota in notas:\n",
    "    if nota >= 9:\n",
    "        promotores += 1\n",
    "        continue\n",
    "\n",
    "    if nota <= 6:\n",
    "        detratores += 1\n",
    "\n",
    "nps = (promotores - detratores) / len(notas) * 100\n",
    "nps"
   ]
  },
  {
   "cell_type": "code",
   "execution_count": null,
   "outputs": [],
   "source": [
    "# Paradgima funcional"
   ],
   "metadata": {
    "collapsed": false
   }
  },
  {
   "cell_type": "code",
   "execution_count": 31,
   "outputs": [
    {
     "data": {
      "text/plain": "46.93877551020408"
     },
     "execution_count": 31,
     "metadata": {},
     "output_type": "execute_result"
    }
   ],
   "source": [
    "import pandas as pd\n",
    "\n",
    "\n",
    "def calcular_nps(notas):\n",
    "    detratores = notas.apply(lambda nota: nota <= 6).sum()\n",
    "\n",
    "    # Indexação booleana\n",
    "    promotores = notas[notas >= 9].count()\n",
    "\n",
    "    return (promotores - detratores) / len(notas) * 100\n",
    "\n",
    "\n",
    "dados = pd.read_csv(\"./data/feedbacks.csv\", delimiter=\";\")\n",
    "\n",
    "notas = dados[\"Nota\"]\n",
    "nps = calcular_nps(notas)\n",
    "nps"
   ],
   "metadata": {
    "collapsed": false,
    "ExecuteTime": {
     "end_time": "2023-06-29T01:03:44.931258849Z",
     "start_time": "2023-06-29T01:03:44.921945646Z"
    }
   }
  },
  {
   "cell_type": "code",
   "execution_count": 61,
   "outputs": [
    {
     "data": {
      "text/plain": "56.30252100840336"
     },
     "execution_count": 61,
     "metadata": {},
     "output_type": "execute_result"
    }
   ],
   "source": [
    "# Paradigma orientado a objetos\n",
    "\n",
    "import pandas as pd\n",
    "\n",
    "\n",
    "class Feedback:\n",
    "\n",
    "    def __init__(self, nota, comentario) -> None:\n",
    "        self.nota = nota\n",
    "        self.comentario = comentario\n",
    "\n",
    "\n",
    "class AnalisadorFeedback:\n",
    "\n",
    "    def __init__(self, feedbacks) -> None:\n",
    "        self.feedbacks = feedbacks\n",
    "\n",
    "    def calcular_nps(self):\n",
    "        detratores = len([feedback for feedback in self.feedbacks if feedback.nota <= 6])\n",
    "        promotores = len([feedback for feedback in self.feedbacks if feedback.nota >= 9])\n",
    "\n",
    "        return (promotores - detratores) / len(self.feedbacks) * 100\n",
    "\n",
    "\n",
    "dados = pd.read_csv(\"./data/feedbacks.csv\", delimiter=\";\")\n",
    "\n",
    "feedbacks = dados.apply(lambda linha: Feedback(linha[\"Nota\"], linha[\"Comentário\"]), axis=1)\n",
    "\n",
    "analisador = AnalisadorFeedback(feedbacks)\n",
    "nps = analisador.calcular_nps()\n",
    "nps"
   ],
   "metadata": {
    "collapsed": false,
    "ExecuteTime": {
     "end_time": "2023-06-29T01:21:43.047642250Z",
     "start_time": "2023-06-29T01:21:43.000298783Z"
    }
   }
  },
  {
   "cell_type": "code",
   "execution_count": 66,
   "outputs": [
    {
     "data": {
      "text/plain": "<Figure size 1000x200 with 1 Axes>",
      "image/png": "[encoded data removed]"
     },
     "metadata": {},
     "output_type": "display_data"
    }
   ],
   "source": [
    "import matplotlib.pyplot as plt\n",
    "import matplotlib.patches as mpatches\n",
    "\n",
    "# Definição das constantes que usaremos para visualizar o NPS\n",
    "NPS_ZONAS = ['Crítico', 'Aperfeiçoamento', 'Qualidade', 'Excelência']\n",
    "NPS_VALORES = [-100, 0, 50, 75, 100]\n",
    "NPS_CORES = ['#FF595E', '#FFCA3A', '#8AC926', '#1982C4']\n",
    "\n",
    "\n",
    "def criar_grafico_nps(nps):\n",
    "    fig, ax = plt.subplots(figsize=(10, 2))\n",
    "\n",
    "    for i, zona in enumerate(NPS_ZONAS):\n",
    "        ax.barh([0], width=NPS_VALORES[i + 1] - NPS_VALORES[i], left=NPS_VALORES[i], color=NPS_CORES[i])\n",
    "\n",
    "    ax.barh([0], width=.5, left=nps, color=\"black\")\n",
    "    # Remover as divisões de valores do eixo Y\n",
    "    ax.set_yticks([])\n",
    "    # Definir o intervalo de valores do gráfico entre -100 e 100\n",
    "    ax.set_xlim(-100, 100)\n",
    "    # Definir no eixo X apenas as divisões de valores especificados dentro de 'NPS_VALORES'\n",
    "    ax.set_xticks(NPS_VALORES)\n",
    "\n",
    "    plt.text(nps, 0, f\"{nps=:.2f}\", ha = \"center\", va=\"center\", color='white', bbox=dict(facecolor='black'))\n",
    "\n",
    "    # Criar o card de legendas\n",
    "    patches = [mpatches.Patch(color=NPS_CORES[i], label=NPS_ZONAS[i]) for i in range(len(NPS_ZONAS))]\n",
    "    plt.legend(handles=patches, bbox_to_anchor=(1, 1))\n",
    "\n",
    "    plt.title(\"Gráfico de NPS da IFood Dev Week\")\n",
    "\n",
    "    plt.show()\n",
    "\n",
    "\n",
    "criar_grafico_nps(nps)"
   ],
   "metadata": {
    "collapsed": false,
    "ExecuteTime": {
     "end_time": "2023-06-29T01:25:44.925636279Z",
     "start_time": "2023-06-29T01:25:44.787464599Z"
    }
   }
  },
  {
   "cell_type": "code",
   "execution_count": null,
   "outputs": [],
   "source": [
    "import openai\n",
    "\n",
    "openai.api_key = \"OpenAI API Key\"\n",
    "\n",
    "def analisar_sentimentos(feedbacks):\n",
    "  comentarios_formatados = \"\\n\".join([f\"- Nota {feedback.nota}! {feedback.comentario}\" for feedback in feedbacks])\n",
    "\n",
    "  prompt = f\"\"\"\n",
    "            Sintetize uma análise geral sobre os seguintes comentário:\n",
    "            {comentarios_formatados}\n",
    "            \"\"\"\n",
    "\n",
    "  respostaAPI = openai.ChatCompletion.create(\n",
    "    model=\"gpt-4\",\n",
    "    messages=[\n",
    "      {\n",
    "          \"role\": \"system\",\n",
    "          \"content\": \"Você é um modelo de análise de sentimentos com foco em feedbacks sobre experiências educacionais.\"\n",
    "      },\n",
    "      {\n",
    "          \"role\": \"user\",\n",
    "          \"content\": prompt\n",
    "      }\n",
    "    ]\n",
    "  )\n",
    "  return respostaAPI.choices[0].message.content\n",
    "\n",
    "insigths = analisar_sentimentos(feedbacks)\n",
    "print(insigths)"
   ],
   "metadata": {
    "collapsed": false
   }
  }
 ],
 "metadata": {
  "kernelspec": {
   "display_name": "Python 3",
   "language": "python",
   "name": "python3"
  },
  "language_info": {
   "codemirror_mode": {
    "name": "ipython",
    "version": 2
   },
   "file_extension": ".py",
   "mimetype": "text/x-python",
   "name": "python",
   "nbconvert_exporter": "python",
   "pygments_lexer": "ipython2",
   "version": "2.7.6"
  }
 },
 "nbformat": 4,
 "nbformat_minor": 0
}
