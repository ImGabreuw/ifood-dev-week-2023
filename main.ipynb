{
 "cells": [
  {
   "cell_type": "markdown",
   "source": [
    "# Abordagem imperativa"
   ],
   "metadata": {
    "collapsed": false
   }
  },
  {
   "cell_type": "code",
   "execution_count": 15,
   "metadata": {
    "collapsed": true,
    "ExecuteTime": {
     "end_time": "2023-06-28T01:45:15.611510273Z",
     "start_time": "2023-06-28T01:45:15.601395235Z"
    }
   },
   "outputs": [
    {
     "data": {
      "text/plain": "28.000000000000004"
     },
     "execution_count": 15,
     "metadata": {},
     "output_type": "execute_result"
    }
   ],
   "source": [
    "import pandas as pd\n",
    "\n",
    "dados = pd.read_csv(\"./data/feedbacks.csv\", delimiter=\";\")\n",
    "\n",
    "detratores = 0\n",
    "promotores = 0\n",
    "\n",
    "notas = dados[\"Nota\"]\n",
    "\n",
    "for nota in notas:\n",
    "    if nota >= 9:\n",
    "        promotores += 1\n",
    "        continue\n",
    "\n",
    "    if nota <= detratores:\n",
    "        detratores += 1\n",
    "\n",
    "nps = (promotores - detratores) / len(notas) * 100\n",
    "nps"
   ]
  },
  {
   "cell_type": "code",
   "execution_count": 14,
   "outputs": [],
   "source": [
    "# Abordagem funcional"
   ],
   "metadata": {
    "collapsed": false,
    "ExecuteTime": {
     "end_time": "2023-06-28T01:44:47.849479490Z",
     "start_time": "2023-06-28T01:44:47.805948446Z"
    }
   }
  },
  {
   "cell_type": "code",
   "execution_count": 16,
   "outputs": [
    {
     "data": {
      "text/plain": "28.000000000000004"
     },
     "execution_count": 16,
     "metadata": {},
     "output_type": "execute_result"
    }
   ],
   "source": [
    "import pandas as pd\n",
    "\n",
    "\n",
    "def calcular_nps(notas):\n",
    "    detratores = 0\n",
    "    promotores = 0\n",
    "\n",
    "    for nota in notas:\n",
    "        if nota >= 9:\n",
    "            promotores += 1\n",
    "            continue\n",
    "\n",
    "        if nota <= detratores:\n",
    "            detratores += 1\n",
    "\n",
    "    return (promotores - detratores) / len(notas) * 100\n",
    "\n",
    "\n",
    "dados = pd.read_csv(\"./data/feedbacks.csv\", delimiter=\";\")\n",
    "\n",
    "notas = dados[\"Nota\"]\n",
    "nps = calcular_nps(notas)\n",
    "nps"
   ],
   "metadata": {
    "collapsed": false,
    "ExecuteTime": {
     "end_time": "2023-06-28T01:45:17.202668746Z",
     "start_time": "2023-06-28T01:45:17.188455650Z"
    }
   }
  },
  {
   "cell_type": "code",
   "execution_count": 18,
   "outputs": [
    {
     "data": {
      "text/plain": "28.000000000000004"
     },
     "execution_count": 18,
     "metadata": {},
     "output_type": "execute_result"
    }
   ],
   "source": [
    "# Abordagem orientado a objetos\n",
    "\n",
    "import pandas as pd\n",
    "\n",
    "\n",
    "class Feedback:\n",
    "\n",
    "    def __init__(self, nota, comentario) -> None:\n",
    "        self.nota = nota\n",
    "        self.comentario = comentario\n",
    "\n",
    "\n",
    "class AnalisadorFeedback:\n",
    "\n",
    "    def __init__(self, feedbacks) -> None:\n",
    "        self.feedbacks = feedbacks\n",
    "\n",
    "    def calcular_nps(self):\n",
    "        detratores = sum([1 for feedback in self.feedbacks if feedback.nota <= 6])\n",
    "        promotores = sum([1 for feedback in self.feedbacks if feedback.nota >= 9])\n",
    "\n",
    "        return (promotores - detratores) / len(self.feedbacks) * 100\n",
    "\n",
    "\n",
    "dados = pd.read_csv(\"./data/feedbacks.csv\", delimiter=\";\")\n",
    "\n",
    "feedbacks = [\n",
    "    Feedback(linha[\"Nota\"], linha[\"Comentário\"])\n",
    "    for _, linha in dados.iterrows()\n",
    "]\n",
    "\n",
    "analisador = AnalisadorFeedback(feedbacks)\n",
    "nps = analisador.calcular_nps()\n",
    "nps"
   ],
   "metadata": {
    "collapsed": false,
    "ExecuteTime": {
     "end_time": "2023-06-28T01:51:47.860617146Z",
     "start_time": "2023-06-28T01:51:47.848547455Z"
    }
   }
  },
  {
   "cell_type": "code",
   "execution_count": null,
   "outputs": [],
   "source": [],
   "metadata": {
    "collapsed": false
   }
  }
 ],
 "metadata": {
  "kernelspec": {
   "display_name": "Python 3",
   "language": "python",
   "name": "python3"
  },
  "language_info": {
   "codemirror_mode": {
    "name": "ipython",
    "version": 2
   },
   "file_extension": ".py",
   "mimetype": "text/x-python",
   "name": "python",
   "nbconvert_exporter": "python",
   "pygments_lexer": "ipython2",
   "version": "2.7.6"
  }
 },
 "nbformat": 4,
 "nbformat_minor": 0
}
